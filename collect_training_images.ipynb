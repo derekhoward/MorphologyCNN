{
 "cells": [
  {
   "cell_type": "markdown",
   "metadata": {},
   "source": [
    "# Collect images from Gouwens and Scala datasets"
   ]
  },
  {
   "cell_type": "code",
   "execution_count": 1,
   "metadata": {},
   "outputs": [],
   "source": [
    "# Python imports\n",
    "import glob\n",
    "import os\n",
    "import shutil\n",
    "\n",
    "import pandas as pd\n",
    "import numpy as np\n",
    "import matplotlib.pyplot as plt\n",
    "import seaborn as sns"
   ]
  },
  {
   "cell_type": "code",
   "execution_count": 2,
   "metadata": {},
   "outputs": [],
   "source": [
    "# Morphology visualization imports\n",
    "from neuron_morphology.swc_io import morphology_from_swc\n",
    "from neuron_morphology.constants import AXON, BASAL_DENDRITE, SOMA"
   ]
  },
  {
   "cell_type": "code",
   "execution_count": 5,
   "metadata": {},
   "outputs": [],
   "source": [
    "# Plot morphology from SWC file\n",
    "# def plot_morphology(file, output_name=None):\n",
    "#     morph = morphology_from_swc(file)\n",
    "    \n",
    "#     axon_nodes = morph.get_node_by_types([AXON])\n",
    "#     dend_nodes = morph.get_node_by_types([BASAL_DENDRITE])\n",
    "#     soma_nodes = morph.get_node_by_types([SOMA])\n",
    "\n",
    "#     axon_x = [node['x'] for node in axon_nodes]\n",
    "#     axon_y = [node['y'] for node in axon_nodes]\n",
    "\n",
    "#     dend_x = [node['x'] for node in dend_nodes]\n",
    "#     dend_y = [node['y'] for node in dend_nodes]\n",
    "\n",
    "#     soma_x = [node['x'] for node in soma_nodes]\n",
    "#     soma_y = [node['y'] for node in soma_nodes]\n",
    "\n",
    "\n",
    "#     plt.figure(figsize=(10, 10))\n",
    "\n",
    "#     plt.scatter(axon_x, axon_y, s=1, edgecolor=\"none\")\n",
    "#     plt.scatter(dend_x, dend_y, s=1, edgecolor=\"none\")\n",
    "#     plt.scatter(soma_x, soma_y, s=20, c=\"black\", edgecolor=\"none\")\n",
    "\n",
    "#     plt.gca().set(xticks=[], yticks=[])\n",
    "#     plt.gca().set_aspect(\"equal\")\n",
    "#     sns.despine(left=True, bottom=True)\n",
    "#     if output_name:\n",
    "#         plt.savefig(output_name)\n",
    "#         plt.close()\n",
    "\n",
    "# Modified plotting function to highlight dendrite and soma\n",
    "\n",
    "def plot_morphology(file, output=None):\n",
    "    morph = morphology_from_swc(file)\n",
    "\n",
    "    axon_nodes = morph.get_node_by_types([AXON])\n",
    "    dend_nodes = morph.get_node_by_types([BASAL_DENDRITE])\n",
    "    soma_nodes = morph.get_node_by_types([SOMA])\n",
    "\n",
    "    axon_x = [node['x'] for node in axon_nodes]\n",
    "    axon_y = [node['y'] for node in axon_nodes]\n",
    "\n",
    "    dend_x = [node['x'] for node in dend_nodes]\n",
    "    dend_y = [node['y'] for node in dend_nodes]\n",
    "\n",
    "    soma_x = [node['x'] for node in soma_nodes]\n",
    "    soma_y = [node['y'] for node in soma_nodes]\n",
    "\n",
    "    plt.ioff()\n",
    "    fig = plt.figure(figsize=(10, 10))\n",
    "\n",
    "    plt.scatter(axon_x, axon_y, s=1, edgecolor=\"none\")\n",
    "    plt.scatter(dend_x, dend_y, s=5, c='r', edgecolor=\"none\")\n",
    "    plt.scatter(soma_x, soma_y, s=70, c=\"black\", edgecolor=\"none\")\n",
    "\n",
    "    plt.gca().set(xticks=[], yticks=[])\n",
    "    plt.gca().set_aspect(\"equal\")\n",
    "    sns.despine(left=True, bottom=True)\n",
    "    if output:\n",
    "        plt.savefig(output)\n",
    "    else:\n",
    "        plt.savefig(f\"./gouwens-data/modified_images/{os.path.basename(file)[:9]}.png\")\n",
    "    plt.close(fig)"
   ]
  },
  {
   "cell_type": "markdown",
   "metadata": {},
   "source": [
    "# Gouwens Data"
   ]
  },
  {
   "cell_type": "code",
   "execution_count": 4,
   "metadata": {},
   "outputs": [],
   "source": [
    "metadata_gouwens = pd.read_csv(\"./gouwens-data/metadata_gouwens.csv\")"
   ]
  },
  {
   "cell_type": "code",
   "execution_count": 5,
   "metadata": {},
   "outputs": [
    {
     "data": {
      "text/plain": [
       "537"
      ]
     },
     "execution_count": 5,
     "metadata": {},
     "output_type": "execute_result"
    }
   ],
   "source": [
    "# Collect images with labels\n",
    "gouwens_cells = [os.path.splitext(os.path.basename(i))[0] for i in glob.glob(\"./gouwens-data/images/*.png\")]\n",
    "len(gouwens_cells)"
   ]
  },
  {
   "cell_type": "code",
   "execution_count": 6,
   "metadata": {},
   "outputs": [
    {
     "data": {
      "text/html": [
       "<div>\n",
       "<style scoped>\n",
       "    .dataframe tbody tr th:only-of-type {\n",
       "        vertical-align: middle;\n",
       "    }\n",
       "\n",
       "    .dataframe tbody tr th {\n",
       "        vertical-align: top;\n",
       "    }\n",
       "\n",
       "    .dataframe thead th {\n",
       "        text-align: right;\n",
       "    }\n",
       "</style>\n",
       "<table border=\"1\" class=\"dataframe\">\n",
       "  <thead>\n",
       "    <tr style=\"text-align: right;\">\n",
       "      <th></th>\n",
       "      <th>cell_id</th>\n",
       "      <th>t-type</th>\n",
       "      <th>dataset</th>\n",
       "    </tr>\n",
       "  </thead>\n",
       "  <tbody>\n",
       "    <tr>\n",
       "      <th>0</th>\n",
       "      <td>601506507</td>\n",
       "      <td>Vip Gpc3</td>\n",
       "      <td>gouwens</td>\n",
       "    </tr>\n",
       "    <tr>\n",
       "      <th>1</th>\n",
       "      <td>601790961</td>\n",
       "      <td>Sst Tac2</td>\n",
       "      <td>gouwens</td>\n",
       "    </tr>\n",
       "    <tr>\n",
       "      <th>2</th>\n",
       "      <td>601803754</td>\n",
       "      <td>Sst Calb2</td>\n",
       "      <td>gouwens</td>\n",
       "    </tr>\n",
       "    <tr>\n",
       "      <th>3</th>\n",
       "      <td>601808698</td>\n",
       "      <td>Sst Hpse</td>\n",
       "      <td>gouwens</td>\n",
       "    </tr>\n",
       "    <tr>\n",
       "      <th>4</th>\n",
       "      <td>601810307</td>\n",
       "      <td>Sst Calb2</td>\n",
       "      <td>gouwens</td>\n",
       "    </tr>\n",
       "    <tr>\n",
       "      <th>...</th>\n",
       "      <td>...</td>\n",
       "      <td>...</td>\n",
       "      <td>...</td>\n",
       "    </tr>\n",
       "    <tr>\n",
       "      <th>4310</th>\n",
       "      <td>741796557</td>\n",
       "      <td>Sst Myh8</td>\n",
       "      <td>gouwens</td>\n",
       "    </tr>\n",
       "    <tr>\n",
       "      <th>4317</th>\n",
       "      <td>741940660</td>\n",
       "      <td>Sst Mme</td>\n",
       "      <td>gouwens</td>\n",
       "    </tr>\n",
       "    <tr>\n",
       "      <th>4322</th>\n",
       "      <td>741788179</td>\n",
       "      <td>Sst Tac1</td>\n",
       "      <td>gouwens</td>\n",
       "    </tr>\n",
       "    <tr>\n",
       "      <th>4326</th>\n",
       "      <td>742009621</td>\n",
       "      <td>Sst Mme</td>\n",
       "      <td>gouwens</td>\n",
       "    </tr>\n",
       "    <tr>\n",
       "      <th>4327</th>\n",
       "      <td>742033571</td>\n",
       "      <td>Vip Crispld2</td>\n",
       "      <td>gouwens</td>\n",
       "    </tr>\n",
       "  </tbody>\n",
       "</table>\n",
       "<p>476 rows × 3 columns</p>\n",
       "</div>"
      ],
      "text/plain": [
       "        cell_id        t-type  dataset\n",
       "0     601506507      Vip Gpc3  gouwens\n",
       "1     601790961      Sst Tac2  gouwens\n",
       "2     601803754     Sst Calb2  gouwens\n",
       "3     601808698      Sst Hpse  gouwens\n",
       "4     601810307     Sst Calb2  gouwens\n",
       "...         ...           ...      ...\n",
       "4310  741796557      Sst Myh8  gouwens\n",
       "4317  741940660       Sst Mme  gouwens\n",
       "4322  741788179      Sst Tac1  gouwens\n",
       "4326  742009621       Sst Mme  gouwens\n",
       "4327  742033571  Vip Crispld2  gouwens\n",
       "\n",
       "[476 rows x 3 columns]"
      ]
     },
     "execution_count": 6,
     "metadata": {},
     "output_type": "execute_result"
    }
   ],
   "source": [
    "# Gather t-type for cells\n",
    "metadata_gouwens = metadata_gouwens[[\"cell_specimen_id\", \"corresponding_AIT2.3.1_alias\"]]\n",
    "metadata_gouwens = metadata_gouwens[metadata_gouwens[\"cell_specimen_id\"].isin(gouwens_cells)]\n",
    "metadata_gouwens = metadata_gouwens[metadata_gouwens[\"corresponding_AIT2.3.1_alias\"] != \" NA\"]\n",
    "metadata_gouwens.columns = [\"cell_id\", \"t-type\"]\n",
    "metadata_gouwens[\"dataset\"] = \"gouwens\"\n",
    "metadata_gouwens"
   ]
  },
  {
   "cell_type": "code",
   "execution_count": 34,
   "metadata": {},
   "outputs": [
    {
     "name": "stdout",
     "output_type": "stream",
     "text": [
      "cell_id    841834394\n",
      "t-type     Sst Calb2\n",
      "dataset      gouwens\n",
      "Name: 169, dtype: object\n"
     ]
    },
    {
     "data": {
      "image/png": "[encoded data removed]",
      "text/plain": [
       "<Figure size 720x720 with 1 Axes>"
      ]
     },
     "metadata": {},
     "output_type": "display_data"
    }
   ],
   "source": [
    "cell = metadata_gouwens.iloc[20]['cell_id']\n",
    "file = f\"./gouwens-data/data/{cell}_transformed.swc\"\n",
    "morph = morphology_from_swc(file)\n",
    "    \n",
    "axon_nodes = morph.get_node_by_types([AXON])\n",
    "dend_nodes = morph.get_node_by_types([BASAL_DENDRITE])\n",
    "soma_nodes = morph.get_node_by_types([SOMA])\n",
    "\n",
    "axon_x = [node['x'] for node in axon_nodes]\n",
    "axon_y = [node['y'] for node in axon_nodes]\n",
    "\n",
    "dend_x = [node['x'] for node in dend_nodes]\n",
    "dend_y = [node['y'] for node in dend_nodes]\n",
    "\n",
    "soma_x = [node['x'] for node in soma_nodes]\n",
    "soma_y = [node['y'] for node in soma_nodes]\n",
    "\n",
    "\n",
    "plt.figure(figsize=(10, 10))\n",
    "\n",
    "plt.scatter(axon_x, axon_y, s=1, edgecolor=\"none\")\n",
    "plt.scatter(dend_x, dend_y, s=5, c='r', edgecolor=\"none\")\n",
    "plt.scatter(soma_x, soma_y, s=70, c=\"black\", edgecolor=\"none\")\n",
    "\n",
    "plt.gca().set(xticks=[], yticks=[])\n",
    "plt.gca().set_aspect(\"equal\")\n",
    "sns.despine(left=True, bottom=True)"
   ]
  },
  {
   "cell_type": "code",
   "execution_count": 39,
   "metadata": {},
   "outputs": [],
   "source": [
    "def collect_morph_images(files):\n",
    "    fail_count = 0\n",
    "    processed = 0\n",
    "    for file in files:\n",
    "        processed += 1\n",
    "        if processed % 50 == 0:\n",
    "            print(f\"Processed {processed} images.\")\n",
    "        try:\n",
    "            plot_morphology(file)\n",
    "        except:\n",
    "            fail_count += 1\n",
    "    print(f\"Collected 2D morphology images from {len(files) - fail_count} cells.\")"
   ]
  },
  {
   "cell_type": "code",
   "execution_count": 54,
   "metadata": {},
   "outputs": [
    {
     "name": "stdout",
     "output_type": "stream",
     "text": [
      "Processed 50 images.\n",
      "Processed 100 images.\n",
      "Processed 150 images.\n",
      "Processed 200 images.\n",
      "Processed 250 images.\n",
      "Processed 300 images.\n",
      "Processed 350 images.\n",
      "Processed 400 images.\n",
      "Processed 450 images.\n",
      "Collected 2D morphology images from 476 cells.\n"
     ]
    }
   ],
   "source": [
    "# swc_files = glob.glob(\"./gouwens-data/data/*_transformed.swc\")\n",
    "swc_files = [f\"./gouwens-data/data/{row['cell_id']}_transformed.swc\" for _, row in metadata_gouwens.iterrows()]\n",
    "collect_morph_images(swc_files)"
   ]
  },
  {
   "cell_type": "markdown",
   "metadata": {},
   "source": [
    "# Scala Data"
   ]
  },
  {
   "cell_type": "code",
   "execution_count": 4,
   "metadata": {},
   "outputs": [],
   "source": [
    "metadata_scala = pd.read_csv(\"./scala-data/metadata_scala.csv\", index_col=0)"
   ]
  },
  {
   "cell_type": "code",
   "execution_count": 6,
   "metadata": {},
   "outputs": [],
   "source": [
    "# Generate images\n",
    "def collect_morph_images(files):\n",
    "    fail_count = 0\n",
    "    processed = 0\n",
    "    for file in files:\n",
    "        processed += 1\n",
    "        if processed % 50 == 0:\n",
    "            print(f\"Processed {processed} images.\")\n",
    "        try:\n",
    "            name = os.path.splitext(os.path.basename(file))[0]\n",
    "            plot_morphology(file, f\"./scala-data/inhibitory/images/{name}.png\")\n",
    "        except:\n",
    "            fail_count += 1\n",
    "    print(f\"Collected 2D morphology images from {len(files) - fail_count} cells.\")\n",
    "    print(f\"Failed on {fail_count} cells.\")"
   ]
  },
  {
   "cell_type": "code",
   "execution_count": 7,
   "metadata": {},
   "outputs": [
    {
     "name": "stdout",
     "output_type": "stream",
     "text": [
      "Processed 50 images.\n",
      "Processed 100 images.\n",
      "Processed 150 images.\n",
      "Processed 200 images.\n",
      "Processed 250 images.\n",
      "Processed 300 images.\n",
      "Processed 350 images.\n",
      "Collected 2D morphology images from 371 cells.\n",
      "Failed on 0 cells.\n"
     ]
    }
   ],
   "source": [
    "# Generate images for swc files in Scala dataset\n",
    "scala_swc_files = glob.glob(\"./scala-data/inhibitory/preprocessed/*.swc\")\n",
    "collect_morph_images(scala_swc_files)"
   ]
  },
  {
   "cell_type": "code",
   "execution_count": 34,
   "metadata": {},
   "outputs": [
    {
     "data": {
      "text/plain": [
       "371"
      ]
     },
     "execution_count": 34,
     "metadata": {},
     "output_type": "execute_result"
    }
   ],
   "source": [
    "# Collect images with labels\n",
    "scala_cells = [os.path.splitext(os.path.basename(i))[0] for i in glob.glob(\"./scala-data/inhibitory/images/*.png\")]\n",
    "len(scala_cells)"
   ]
  },
  {
   "cell_type": "code",
   "execution_count": 36,
   "metadata": {},
   "outputs": [
    {
     "data": {
      "text/html": [
       "<div>\n",
       "<style scoped>\n",
       "    .dataframe tbody tr th:only-of-type {\n",
       "        vertical-align: middle;\n",
       "    }\n",
       "\n",
       "    .dataframe tbody tr th {\n",
       "        vertical-align: top;\n",
       "    }\n",
       "\n",
       "    .dataframe thead th {\n",
       "        text-align: right;\n",
       "    }\n",
       "</style>\n",
       "<table border=\"1\" class=\"dataframe\">\n",
       "  <thead>\n",
       "    <tr style=\"text-align: right;\">\n",
       "      <th></th>\n",
       "      <th>cell_id</th>\n",
       "      <th>t-type</th>\n",
       "      <th>dataset</th>\n",
       "    </tr>\n",
       "  </thead>\n",
       "  <tbody>\n",
       "    <tr>\n",
       "      <th>392</th>\n",
       "      <td>20180213_sample_5</td>\n",
       "      <td>Pvalb Gpr149</td>\n",
       "      <td>scala</td>\n",
       "    </tr>\n",
       "    <tr>\n",
       "      <th>393</th>\n",
       "      <td>20180215_sample_1</td>\n",
       "      <td>Pvalb Reln</td>\n",
       "      <td>scala</td>\n",
       "    </tr>\n",
       "    <tr>\n",
       "      <th>396</th>\n",
       "      <td>20180306_sample_1</td>\n",
       "      <td>Pvalb Reln</td>\n",
       "      <td>scala</td>\n",
       "    </tr>\n",
       "    <tr>\n",
       "      <th>398</th>\n",
       "      <td>20180327_sample_1</td>\n",
       "      <td>Pvalb Tpbg</td>\n",
       "      <td>scala</td>\n",
       "    </tr>\n",
       "    <tr>\n",
       "      <th>400</th>\n",
       "      <td>20180327_sample_4</td>\n",
       "      <td>Pvalb Reln</td>\n",
       "      <td>scala</td>\n",
       "    </tr>\n",
       "    <tr>\n",
       "      <th>...</th>\n",
       "      <td>...</td>\n",
       "      <td>...</td>\n",
       "      <td>...</td>\n",
       "    </tr>\n",
       "    <tr>\n",
       "      <th>1096</th>\n",
       "      <td>20191107_sample_2</td>\n",
       "      <td>Sst Tac2</td>\n",
       "      <td>scala</td>\n",
       "    </tr>\n",
       "    <tr>\n",
       "      <th>1097</th>\n",
       "      <td>20191107_sample_3</td>\n",
       "      <td>Sst Calb2</td>\n",
       "      <td>scala</td>\n",
       "    </tr>\n",
       "    <tr>\n",
       "      <th>1098</th>\n",
       "      <td>20191107_sample_4</td>\n",
       "      <td>Sst Hpse</td>\n",
       "      <td>scala</td>\n",
       "    </tr>\n",
       "    <tr>\n",
       "      <th>1099</th>\n",
       "      <td>20191114_sample_1</td>\n",
       "      <td>Lamp5 Fam19a1</td>\n",
       "      <td>scala</td>\n",
       "    </tr>\n",
       "    <tr>\n",
       "      <th>1100</th>\n",
       "      <td>20191114_sample_4</td>\n",
       "      <td>Sst Calb2</td>\n",
       "      <td>scala</td>\n",
       "    </tr>\n",
       "  </tbody>\n",
       "</table>\n",
       "<p>323 rows × 3 columns</p>\n",
       "</div>"
      ],
      "text/plain": [
       "                cell_id         t-type dataset\n",
       "392   20180213_sample_5   Pvalb Gpr149   scala\n",
       "393   20180215_sample_1     Pvalb Reln   scala\n",
       "396   20180306_sample_1     Pvalb Reln   scala\n",
       "398   20180327_sample_1     Pvalb Tpbg   scala\n",
       "400   20180327_sample_4     Pvalb Reln   scala\n",
       "...                 ...            ...     ...\n",
       "1096  20191107_sample_2       Sst Tac2   scala\n",
       "1097  20191107_sample_3      Sst Calb2   scala\n",
       "1098  20191107_sample_4       Sst Hpse   scala\n",
       "1099  20191114_sample_1  Lamp5 Fam19a1   scala\n",
       "1100  20191114_sample_4      Sst Calb2   scala\n",
       "\n",
       "[323 rows x 3 columns]"
      ]
     },
     "execution_count": 36,
     "metadata": {},
     "output_type": "execute_result"
    }
   ],
   "source": [
    "metadata_scala = metadata_scala[[\"Cell\", \"corresponding_AIT2.3.1_alias\"]]\n",
    "metadata_scala = metadata_scala[metadata_scala[\"Cell\"].isin(scala_cells)]\n",
    "metadata_scala = metadata_scala[metadata_scala[\"corresponding_AIT2.3.1_alias\"] != \" NA\"]\n",
    "metadata_scala.columns = [\"cell_id\", \"t-type\"]\n",
    "metadata_scala[\"dataset\"] = \"scala\"\n",
    "metadata_scala"
   ]
  },
  {
   "cell_type": "code",
   "execution_count": 41,
   "metadata": {},
   "outputs": [
    {
     "data": {
      "text/html": [
       "<div>\n",
       "<style scoped>\n",
       "    .dataframe tbody tr th:only-of-type {\n",
       "        vertical-align: middle;\n",
       "    }\n",
       "\n",
       "    .dataframe tbody tr th {\n",
       "        vertical-align: top;\n",
       "    }\n",
       "\n",
       "    .dataframe thead th {\n",
       "        text-align: right;\n",
       "    }\n",
       "</style>\n",
       "<table border=\"1\" class=\"dataframe\">\n",
       "  <thead>\n",
       "    <tr style=\"text-align: right;\">\n",
       "      <th></th>\n",
       "      <th>cell_id</th>\n",
       "      <th>t-type</th>\n",
       "      <th>dataset</th>\n",
       "    </tr>\n",
       "  </thead>\n",
       "  <tbody>\n",
       "    <tr>\n",
       "      <th>0</th>\n",
       "      <td>601506507</td>\n",
       "      <td>Vip Gpc3</td>\n",
       "      <td>gouwens</td>\n",
       "    </tr>\n",
       "    <tr>\n",
       "      <th>1</th>\n",
       "      <td>601790961</td>\n",
       "      <td>Sst Tac2</td>\n",
       "      <td>gouwens</td>\n",
       "    </tr>\n",
       "    <tr>\n",
       "      <th>2</th>\n",
       "      <td>601803754</td>\n",
       "      <td>Sst Calb2</td>\n",
       "      <td>gouwens</td>\n",
       "    </tr>\n",
       "    <tr>\n",
       "      <th>3</th>\n",
       "      <td>601808698</td>\n",
       "      <td>Sst Hpse</td>\n",
       "      <td>gouwens</td>\n",
       "    </tr>\n",
       "    <tr>\n",
       "      <th>4</th>\n",
       "      <td>601810307</td>\n",
       "      <td>Sst Calb2</td>\n",
       "      <td>gouwens</td>\n",
       "    </tr>\n",
       "    <tr>\n",
       "      <th>...</th>\n",
       "      <td>...</td>\n",
       "      <td>...</td>\n",
       "      <td>...</td>\n",
       "    </tr>\n",
       "    <tr>\n",
       "      <th>794</th>\n",
       "      <td>20191107_sample_2</td>\n",
       "      <td>Sst Tac2</td>\n",
       "      <td>scala</td>\n",
       "    </tr>\n",
       "    <tr>\n",
       "      <th>795</th>\n",
       "      <td>20191107_sample_3</td>\n",
       "      <td>Sst Calb2</td>\n",
       "      <td>scala</td>\n",
       "    </tr>\n",
       "    <tr>\n",
       "      <th>796</th>\n",
       "      <td>20191107_sample_4</td>\n",
       "      <td>Sst Hpse</td>\n",
       "      <td>scala</td>\n",
       "    </tr>\n",
       "    <tr>\n",
       "      <th>797</th>\n",
       "      <td>20191114_sample_1</td>\n",
       "      <td>Lamp5 Fam19a1</td>\n",
       "      <td>scala</td>\n",
       "    </tr>\n",
       "    <tr>\n",
       "      <th>798</th>\n",
       "      <td>20191114_sample_4</td>\n",
       "      <td>Sst Calb2</td>\n",
       "      <td>scala</td>\n",
       "    </tr>\n",
       "  </tbody>\n",
       "</table>\n",
       "<p>799 rows × 3 columns</p>\n",
       "</div>"
      ],
      "text/plain": [
       "               cell_id         t-type  dataset\n",
       "0            601506507       Vip Gpc3  gouwens\n",
       "1            601790961       Sst Tac2  gouwens\n",
       "2            601803754      Sst Calb2  gouwens\n",
       "3            601808698       Sst Hpse  gouwens\n",
       "4            601810307      Sst Calb2  gouwens\n",
       "..                 ...            ...      ...\n",
       "794  20191107_sample_2       Sst Tac2    scala\n",
       "795  20191107_sample_3      Sst Calb2    scala\n",
       "796  20191107_sample_4       Sst Hpse    scala\n",
       "797  20191114_sample_1  Lamp5 Fam19a1    scala\n",
       "798  20191114_sample_4      Sst Calb2    scala\n",
       "\n",
       "[799 rows x 3 columns]"
      ]
     },
     "execution_count": 41,
     "metadata": {},
     "output_type": "execute_result"
    }
   ],
   "source": [
    "metadata_combined = pd.concat([metadata_gouwens, metadata_scala], axis=0)\n",
    "metadata_combined = metadata_combined.reset_index(drop=True)\n",
    "metadata_combined"
   ]
  },
  {
   "cell_type": "code",
   "execution_count": 43,
   "metadata": {},
   "outputs": [],
   "source": [
    "metadata_combined.to_csv(\"./combined-data/combined_metadata.csv\")"
   ]
  },
  {
   "cell_type": "code",
   "execution_count": 10,
   "metadata": {},
   "outputs": [
    {
     "data": {
      "text/html": [
       "<div>\n",
       "<style scoped>\n",
       "    .dataframe tbody tr th:only-of-type {\n",
       "        vertical-align: middle;\n",
       "    }\n",
       "\n",
       "    .dataframe tbody tr th {\n",
       "        vertical-align: top;\n",
       "    }\n",
       "\n",
       "    .dataframe thead th {\n",
       "        text-align: right;\n",
       "    }\n",
       "</style>\n",
       "<table border=\"1\" class=\"dataframe\">\n",
       "  <thead>\n",
       "    <tr style=\"text-align: right;\">\n",
       "      <th></th>\n",
       "      <th>cell_id</th>\n",
       "      <th>t-type</th>\n",
       "      <th>dataset</th>\n",
       "    </tr>\n",
       "  </thead>\n",
       "  <tbody>\n",
       "    <tr>\n",
       "      <th>0</th>\n",
       "      <td>601506507</td>\n",
       "      <td>Vip Gpc3</td>\n",
       "      <td>gouwens</td>\n",
       "    </tr>\n",
       "    <tr>\n",
       "      <th>1</th>\n",
       "      <td>601790961</td>\n",
       "      <td>Sst Tac2</td>\n",
       "      <td>gouwens</td>\n",
       "    </tr>\n",
       "    <tr>\n",
       "      <th>2</th>\n",
       "      <td>601803754</td>\n",
       "      <td>Sst Calb2</td>\n",
       "      <td>gouwens</td>\n",
       "    </tr>\n",
       "    <tr>\n",
       "      <th>3</th>\n",
       "      <td>601808698</td>\n",
       "      <td>Sst Hpse</td>\n",
       "      <td>gouwens</td>\n",
       "    </tr>\n",
       "    <tr>\n",
       "      <th>4</th>\n",
       "      <td>601810307</td>\n",
       "      <td>Sst Calb2</td>\n",
       "      <td>gouwens</td>\n",
       "    </tr>\n",
       "    <tr>\n",
       "      <th>...</th>\n",
       "      <td>...</td>\n",
       "      <td>...</td>\n",
       "      <td>...</td>\n",
       "    </tr>\n",
       "    <tr>\n",
       "      <th>794</th>\n",
       "      <td>20191107_sample_2</td>\n",
       "      <td>Sst Tac2</td>\n",
       "      <td>scala</td>\n",
       "    </tr>\n",
       "    <tr>\n",
       "      <th>795</th>\n",
       "      <td>20191107_sample_3</td>\n",
       "      <td>Sst Calb2</td>\n",
       "      <td>scala</td>\n",
       "    </tr>\n",
       "    <tr>\n",
       "      <th>796</th>\n",
       "      <td>20191107_sample_4</td>\n",
       "      <td>Sst Hpse</td>\n",
       "      <td>scala</td>\n",
       "    </tr>\n",
       "    <tr>\n",
       "      <th>797</th>\n",
       "      <td>20191114_sample_1</td>\n",
       "      <td>Lamp5 Fam19a1</td>\n",
       "      <td>scala</td>\n",
       "    </tr>\n",
       "    <tr>\n",
       "      <th>798</th>\n",
       "      <td>20191114_sample_4</td>\n",
       "      <td>Sst Calb2</td>\n",
       "      <td>scala</td>\n",
       "    </tr>\n",
       "  </tbody>\n",
       "</table>\n",
       "<p>799 rows × 3 columns</p>\n",
       "</div>"
      ],
      "text/plain": [
       "               cell_id         t-type  dataset\n",
       "0            601506507       Vip Gpc3  gouwens\n",
       "1            601790961       Sst Tac2  gouwens\n",
       "2            601803754      Sst Calb2  gouwens\n",
       "3            601808698       Sst Hpse  gouwens\n",
       "4            601810307      Sst Calb2  gouwens\n",
       "..                 ...            ...      ...\n",
       "794  20191107_sample_2       Sst Tac2    scala\n",
       "795  20191107_sample_3      Sst Calb2    scala\n",
       "796  20191107_sample_4       Sst Hpse    scala\n",
       "797  20191114_sample_1  Lamp5 Fam19a1    scala\n",
       "798  20191114_sample_4      Sst Calb2    scala\n",
       "\n",
       "[799 rows x 3 columns]"
      ]
     },
     "execution_count": 10,
     "metadata": {},
     "output_type": "execute_result"
    }
   ],
   "source": [
    "metadata = pd.read_csv(\"./combined-data/combined_metadata.csv\", index_col=0)\n",
    "metadata"
   ]
  },
  {
   "cell_type": "code",
   "execution_count": 11,
   "metadata": {},
   "outputs": [
    {
     "data": {
      "text/plain": [
       "{'Pvalb Reln': 87,\n",
       " 'Sst Calb2': 69,\n",
       " 'Sst Hpse': 60,\n",
       " 'Lamp5 Lsp1': 38,\n",
       " 'Pvalb Tpbg': 35,\n",
       " 'Pvalb Sema3e': 34,\n",
       " 'Vip Crispld2': 33,\n",
       " 'Sst Rxfp1': 28,\n",
       " 'Sst Tac1': 28,\n",
       " 'Lamp5 Plch2': 22,\n",
       " 'Sst Chodl': 21,\n",
       " 'Vip Lmo1': 21,\n",
       " 'Sst Nts': 19,\n",
       " 'Sst Crhr2': 19,\n",
       " 'Sst Tac2': 19,\n",
       " 'Pvalb Gpr149': 18,\n",
       " 'Sncg Vip': 18,\n",
       " 'Pvalb Akr1c18': 18,\n",
       " 'Sst Esm1': 17,\n",
       " 'Vip Ptprt': 17,\n",
       " 'Vip Lect1': 15,\n",
       " 'Pvalb Vipr2': 14,\n",
       " 'Sst Mme': 14,\n",
       " 'Lamp5 Fam19a1': 13,\n",
       " 'Sst Nr2f2': 13,\n",
       " 'Sst Myh8': 13,\n",
       " 'Sst Chrna2': 12,\n",
       " 'Vip Pygm': 11}"
      ]
     },
     "execution_count": 11,
     "metadata": {},
     "output_type": "execute_result"
    }
   ],
   "source": [
    "# Get significant t-types with more than 10 cells\n",
    "counts = metadata[\"t-type\"].value_counts()\n",
    "sig_cell_types = counts[counts >= 10].to_dict()\n",
    "sig_cell_types"
   ]
  },
  {
   "cell_type": "code",
   "execution_count": 12,
   "metadata": {},
   "outputs": [
    {
     "name": "stdout",
     "output_type": "stream",
     "text": [
      "28\n"
     ]
    },
    {
     "data": {
      "text/plain": [
       "726"
      ]
     },
     "execution_count": 12,
     "metadata": {},
     "output_type": "execute_result"
    }
   ],
   "source": [
    "print(len(sig_cell_types))\n",
    "np.sum(list(sig_cell_types.values()))"
   ]
  },
  {
   "cell_type": "code",
   "execution_count": 13,
   "metadata": {},
   "outputs": [
    {
     "data": {
      "text/plain": [
       "726"
      ]
     },
     "execution_count": 13,
     "metadata": {},
     "output_type": "execute_result"
    }
   ],
   "source": [
    "# Save cells within significant t-types\n",
    "sig_cell_ids = list(metadata[metadata[\"t-type\"].isin(sig_cell_types)][\"cell_id\"])\n",
    "len(sig_cell_ids)"
   ]
  },
  {
   "cell_type": "code",
   "execution_count": 14,
   "metadata": {},
   "outputs": [
    {
     "data": {
      "text/plain": [
       "'20190108_sample_1'"
      ]
     },
     "execution_count": 14,
     "metadata": {},
     "output_type": "execute_result"
    }
   ],
   "source": [
    "sig_cell_ids[500]"
   ]
  },
  {
   "cell_type": "code",
   "execution_count": 15,
   "metadata": {},
   "outputs": [
    {
     "name": "stdout",
     "output_type": "stream",
     "text": [
      "Copied 450 files.\n",
      "Copied 500 files.\n",
      "Copied 550 files.\n",
      "Copied 600 files.\n",
      "Copied 650 files.\n",
      "Copied 700 files.\n"
     ]
    }
   ],
   "source": [
    "# Gather images from cells within significant t-types\n",
    "for cnt, cell in enumerate(sig_cell_ids):\n",
    "    # Gouwens\n",
    "    if len(cell) == 9:\n",
    "        src = f\"./gouwens-data/images/{cell}.png\"\n",
    "        continue\n",
    "    else:\n",
    "        src = f\"./scala-data/inhibitory/images/{cell}.png\"\n",
    "    dst = f\"./combined-data/images/{cell}.png\"\n",
    "    shutil.copy(src, dst)\n",
    "    if (cnt > 0 and cnt % 50 == 0):\n",
    "        print(f\"Copied {cnt} files.\")"
   ]
  },
  {
   "cell_type": "code",
   "execution_count": 72,
   "metadata": {},
   "outputs": [],
   "source": [
    "metadata_filtered = metadata[metadata[\"t-type\"].isin(sig_cell_types)]\n",
    "metadata_filtered = metadata_filtered.reset_index(drop=True)\n",
    "metadata_filtered.to_csv(\"./combined-data/combined_metadata_filtered.csv\")"
   ]
  },
  {
   "cell_type": "code",
   "execution_count": null,
   "metadata": {},
   "outputs": [],
   "source": []
  }
 ],
 "metadata": {
  "kernelspec": {
   "display_name": "neuron-morph",
   "language": "python",
   "name": "neuron-morph"
  },
  "language_info": {
   "codemirror_mode": {
    "name": "ipython",
    "version": 3
   },
   "file_extension": ".py",
   "mimetype": "text/x-python",
   "name": "python",
   "nbconvert_exporter": "python",
   "pygments_lexer": "ipython3",
   "version": "3.7.13"
  }
 },
 "nbformat": 4,
 "nbformat_minor": 4
}
